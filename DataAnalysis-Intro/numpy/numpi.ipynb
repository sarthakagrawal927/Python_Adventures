{
 "metadata": {
  "language_info": {
   "codemirror_mode": {
    "name": "ipython",
    "version": 3
   },
   "file_extension": ".py",
   "mimetype": "text/x-python",
   "name": "python",
   "nbconvert_exporter": "python",
   "pygments_lexer": "ipython3",
   "version": "3.8.2-final"
  },
  "orig_nbformat": 2,
  "kernelspec": {
   "name": "python_defaultSpec_1600262159156",
   "display_name": "Python 3.8.2 64-bit"
  }
 },
 "nbformat": 4,
 "nbformat_minor": 2,
 "cells": [
  {
   "cell_type": "code",
   "execution_count": 2,
   "metadata": {},
   "outputs": [],
   "source": [
    "import numpy as np"
   ]
  },
  {
   "cell_type": "code",
   "execution_count": 3,
   "metadata": {},
   "outputs": [
    {
     "output_type": "execute_result",
     "data": {
      "text/plain": "array([1, 3, 4])"
     },
     "metadata": {},
     "execution_count": 3
    }
   ],
   "source": [
    "a1 = np.array([1,3,4])\n",
    "a1\n"
   ]
  },
  {
   "cell_type": "code",
   "execution_count": 4,
   "metadata": {},
   "outputs": [
    {
     "output_type": "execute_result",
     "data": {
      "text/plain": "array([[1. , 2. , 4. ],\n       [3.5, 3. , 6. ]])"
     },
     "metadata": {},
     "execution_count": 4
    }
   ],
   "source": [
    "a2 = np.array([[1,2,4],[3.5,3,6]])\n",
    "a2"
   ]
  },
  {
   "cell_type": "code",
   "execution_count": 5,
   "metadata": {},
   "outputs": [
    {
     "output_type": "execute_result",
     "data": {
      "text/plain": "(3,)"
     },
     "metadata": {},
     "execution_count": 5
    }
   ],
   "source": [
    "a1.shape"
   ]
  },
  {
   "cell_type": "code",
   "execution_count": 6,
   "metadata": {},
   "outputs": [
    {
     "output_type": "execute_result",
     "data": {
      "text/plain": "(2, 3)"
     },
     "metadata": {},
     "execution_count": 6
    }
   ],
   "source": [
    "a2.shape"
   ]
  },
  {
   "cell_type": "code",
   "execution_count": 7,
   "metadata": {},
   "outputs": [
    {
     "output_type": "execute_result",
     "data": {
      "text/plain": "(1, 2)"
     },
     "metadata": {},
     "execution_count": 7
    }
   ],
   "source": [
    "a1.ndim , a2.ndim"
   ]
  },
  {
   "cell_type": "code",
   "execution_count": 8,
   "metadata": {},
   "outputs": [
    {
     "output_type": "execute_result",
     "data": {
      "text/plain": "(3, 6)"
     },
     "metadata": {},
     "execution_count": 8
    }
   ],
   "source": [
    "a1.size , a2.size"
   ]
  },
  {
   "cell_type": "code",
   "execution_count": 9,
   "metadata": {},
   "outputs": [],
   "source": [
    "import pandas as pd"
   ]
  },
  {
   "cell_type": "code",
   "execution_count": 10,
   "metadata": {},
   "outputs": [],
   "source": [
    "df = pd.DataFrame(a2)"
   ]
  },
  {
   "cell_type": "code",
   "execution_count": null,
   "metadata": {},
   "outputs": [],
   "source": [
    "df"
   ]
  },
  {
   "cell_type": "code",
   "execution_count": 13,
   "metadata": {},
   "outputs": [
    {
     "output_type": "execute_result",
     "data": {
      "text/plain": "array([[1., 1.],\n       [1., 1.],\n       [1., 1.],\n       [1., 1.]])"
     },
     "metadata": {},
     "execution_count": 13
    }
   ],
   "source": [
    "ones = np.ones((4,2))\n",
    "ones"
   ]
  },
  {
   "cell_type": "code",
   "execution_count": 14,
   "metadata": {},
   "outputs": [],
   "source": [
    "range_array = np.arange(0,12,3)"
   ]
  },
  {
   "cell_type": "code",
   "execution_count": 15,
   "metadata": {},
   "outputs": [
    {
     "output_type": "execute_result",
     "data": {
      "text/plain": "array([0, 3, 6, 9])"
     },
     "metadata": {},
     "execution_count": 15
    }
   ],
   "source": [
    "range_array"
   ]
  },
  {
   "cell_type": "code",
   "execution_count": 16,
   "metadata": {},
   "outputs": [
    {
     "output_type": "execute_result",
     "data": {
      "text/plain": "array([[4, 9, 7, 8, 2],\n       [3, 6, 5, 3, 8],\n       [4, 2, 9, 2, 2]])"
     },
     "metadata": {},
     "execution_count": 16
    }
   ],
   "source": [
    "rand_array = np.random.randint(0,10, size=(3,5))\n",
    "rand_array"
   ]
  },
  {
   "cell_type": "code",
   "execution_count": 17,
   "metadata": {},
   "outputs": [
    {
     "output_type": "execute_result",
     "data": {
      "text/plain": "array([[8, 8, 6, 2, 8],\n       [7, 2, 1, 5, 4],\n       [4, 5, 7, 3, 6]])"
     },
     "metadata": {},
     "execution_count": 17
    }
   ],
   "source": [
    "np.random.seed(seed = 2)\n",
    "rand_array = np.random.randint(0,10, size=(3,5))\n",
    "rand_array\n"
   ]
  },
  {
   "cell_type": "code",
   "execution_count": 18,
   "metadata": {},
   "outputs": [
    {
     "output_type": "execute_result",
     "data": {
      "text/plain": "array([[1. , 2. , 4. ],\n       [3.5, 3. , 6. ]])"
     },
     "metadata": {},
     "execution_count": 18
    }
   ],
   "source": [
    "a2"
   ]
  },
  {
   "cell_type": "code",
   "execution_count": 19,
   "metadata": {},
   "outputs": [
    {
     "output_type": "execute_result",
     "data": {
      "text/plain": "array([[[[4, 3, 7, 6, 1],\n         [3, 5, 8, 4, 6],\n         [3, 9, 2, 0, 4],\n         [2, 4, 1, 7, 8]],\n\n        [[2, 9, 8, 7, 1],\n         [6, 8, 5, 9, 9],\n         [9, 3, 0, 0, 2],\n         [8, 8, 2, 9, 6]],\n\n        [[5, 6, 6, 6, 3],\n         [8, 2, 1, 4, 8],\n         [1, 6, 9, 5, 1],\n         [2, 4, 7, 6, 4]]],\n\n\n       [[[5, 8, 3, 0, 0],\n         [5, 7, 5, 0, 8],\n         [6, 5, 1, 7, 4],\n         [3, 6, 1, 4, 0]],\n\n        [[8, 5, 4, 2, 9],\n         [7, 1, 9, 2, 1],\n         [0, 7, 1, 8, 9],\n         [0, 7, 0, 5, 2]],\n\n        [[5, 1, 3, 3, 1],\n         [8, 6, 8, 1, 5],\n         [7, 0, 9, 1, 5],\n         [9, 2, 0, 0, 4]]]])"
     },
     "metadata": {},
     "execution_count": 19
    }
   ],
   "source": [
    "a4 = np.random.randint(10, size = (2,3,4,5))\n",
    "a4"
   ]
  },
  {
   "cell_type": "code",
   "execution_count": 20,
   "metadata": {},
   "outputs": [
    {
     "output_type": "execute_result",
     "data": {
      "text/plain": "array([[[5, 8, 3, 0, 0],\n        [5, 7, 5, 0, 8],\n        [6, 5, 1, 7, 4],\n        [3, 6, 1, 4, 0]],\n\n       [[8, 5, 4, 2, 9],\n        [7, 1, 9, 2, 1],\n        [0, 7, 1, 8, 9],\n        [0, 7, 0, 5, 2]],\n\n       [[5, 1, 3, 3, 1],\n        [8, 6, 8, 1, 5],\n        [7, 0, 9, 1, 5],\n        [9, 2, 0, 0, 4]]])"
     },
     "metadata": {},
     "execution_count": 20
    }
   ],
   "source": [
    "a4[1]"
   ]
  },
  {
   "cell_type": "code",
   "execution_count": 21,
   "metadata": {},
   "outputs": [
    {
     "output_type": "execute_result",
     "data": {
      "text/plain": "array([[[[4, 3],\n         [3, 5]],\n\n        [[2, 9],\n         [6, 8]]],\n\n\n       [[[5, 8],\n         [5, 7]],\n\n        [[8, 5],\n         [7, 1]]]])"
     },
     "metadata": {},
     "execution_count": 21
    }
   ],
   "source": [
    "a4[:2,:2,:2,:2]"
   ]
  },
  {
   "cell_type": "code",
   "execution_count": 22,
   "metadata": {},
   "outputs": [
    {
     "output_type": "execute_result",
     "data": {
      "text/plain": "4"
     },
     "metadata": {},
     "execution_count": 22
    }
   ],
   "source": [
    "a4.ndim"
   ]
  },
  {
   "cell_type": "code",
   "execution_count": 23,
   "metadata": {},
   "outputs": [
    {
     "output_type": "execute_result",
     "data": {
      "text/plain": "array([[[[4, 3, 7, 6, 1],\n         [3, 5, 8, 4, 6],\n         [3, 9, 2, 0, 4],\n         [2, 4, 1, 7, 8]],\n\n        [[2, 9, 8, 7, 1],\n         [6, 8, 5, 9, 9],\n         [9, 3, 0, 0, 2],\n         [8, 8, 2, 9, 6]],\n\n        [[5, 6, 6, 6, 3],\n         [8, 2, 1, 4, 8],\n         [1, 6, 9, 5, 1],\n         [2, 4, 7, 6, 4]]],\n\n\n       [[[5, 8, 3, 0, 0],\n         [5, 7, 5, 0, 8],\n         [6, 5, 1, 7, 4],\n         [3, 6, 1, 4, 0]],\n\n        [[8, 5, 4, 2, 9],\n         [7, 1, 9, 2, 1],\n         [0, 7, 1, 8, 9],\n         [0, 7, 0, 5, 2]],\n\n        [[5, 1, 3, 3, 1],\n         [8, 6, 8, 1, 5],\n         [7, 0, 9, 1, 5],\n         [9, 2, 0, 0, 4]]]])"
     },
     "metadata": {},
     "execution_count": 23
    }
   ],
   "source": [
    "a4"
   ]
  },
  {
   "cell_type": "code",
   "execution_count": 24,
   "metadata": {},
   "outputs": [
    {
     "output_type": "execute_result",
     "data": {
      "text/plain": "array([5, 8, 3, 0, 0])"
     },
     "metadata": {},
     "execution_count": 24
    }
   ],
   "source": [
    "a4[1][0][0]"
   ]
  },
  {
   "cell_type": "code",
   "execution_count": 27,
   "metadata": {},
   "outputs": [],
   "source": [
    "##Manipulation"
   ]
  },
  {
   "cell_type": "code",
   "execution_count": 28,
   "metadata": {},
   "outputs": [
    {
     "output_type": "execute_result",
     "data": {
      "text/plain": "array([[ 1. ,  6. , 16. ],\n       [ 3.5,  9. , 24. ]])"
     },
     "metadata": {},
     "execution_count": 28
    }
   ],
   "source": [
    "a1 * a2"
   ]
  },
  {
   "cell_type": "code",
   "execution_count": 29,
   "metadata": {},
   "outputs": [
    {
     "output_type": "execute_result",
     "data": {
      "text/plain": "array([[1., 0., 1.],\n       [3., 1., 1.]])"
     },
     "metadata": {},
     "execution_count": 29
    }
   ],
   "source": [
    "a2 // a1"
   ]
  },
  {
   "cell_type": "code",
   "execution_count": 30,
   "metadata": {},
   "outputs": [
    {
     "output_type": "execute_result",
     "data": {
      "text/plain": "array([[1.        , 0.66666667, 1.        ],\n       [3.5       , 1.        , 1.5       ]])"
     },
     "metadata": {},
     "execution_count": 30
    }
   ],
   "source": [
    "a2 / a1"
   ]
  },
  {
   "cell_type": "code",
   "execution_count": 31,
   "metadata": {},
   "outputs": [
    {
     "output_type": "execute_result",
     "data": {
      "text/plain": "array([[ 1.  ,  4.  , 16.  ],\n       [12.25,  9.  , 36.  ]])"
     },
     "metadata": {},
     "execution_count": 31
    }
   ],
   "source": [
    "np.square(a2)"
   ]
  },
  {
   "cell_type": "code",
   "execution_count": 32,
   "metadata": {},
   "outputs": [
    {
     "output_type": "execute_result",
     "data": {
      "text/plain": "19.5"
     },
     "metadata": {},
     "execution_count": 32
    }
   ],
   "source": [
    "a2\n",
    "a2.sum()"
   ]
  },
  {
   "cell_type": "code",
   "execution_count": 35,
   "metadata": {},
   "outputs": [],
   "source": [
    "massive_array = np.random.random(100000)\n"
   ]
  },
  {
   "cell_type": "code",
   "execution_count": 36,
   "metadata": {},
   "outputs": [
    {
     "output_type": "execute_result",
     "data": {
      "text/plain": "array([8.37830548e-01, 5.36453698e-01, 3.21318586e-01, 3.97253995e-01,\n       2.77439216e-01, 9.36248043e-01, 4.63742607e-01, 8.52288956e-01,\n       2.12767370e-01, 1.23587469e-04])"
     },
     "metadata": {},
     "execution_count": 36
    }
   ],
   "source": [
    "massive_array[:10]"
   ]
  },
  {
   "cell_type": "code",
   "execution_count": 40,
   "metadata": {
    "tags": []
   },
   "outputs": [
    {
     "output_type": "stream",
     "name": "stdout",
     "text": "17.3 ms ± 2.56 ms per loop (mean ± std. dev. of 7 runs, 100 loops each)\nss\n73.6 µs ± 4.27 µs per loop (mean ± std. dev. of 7 runs, 10000 loops each)\n"
    }
   ],
   "source": [
    "%timeit sum(massive_array)\n",
    "print(\"ss\")\n",
    "%timeit np.sum(massive_array)"
   ]
  },
  {
   "cell_type": "code",
   "execution_count": 41,
   "metadata": {},
   "outputs": [
    {
     "output_type": "execute_result",
     "data": {
      "text/plain": "array([[1. , 2. , 4. ],\n       [3.5, 3. , 6. ]])"
     },
     "metadata": {},
     "execution_count": 41
    }
   ],
   "source": [
    "a2"
   ]
  },
  {
   "cell_type": "code",
   "execution_count": 42,
   "metadata": {},
   "outputs": [
    {
     "output_type": "error",
     "ename": "NameError",
     "evalue": "name 'a3' is not defined",
     "traceback": [
      "\u001b[1;31m---------------------------------------------------------------------------\u001b[0m",
      "\u001b[1;31mNameError\u001b[0m                                 Traceback (most recent call last)",
      "\u001b[1;32m<ipython-input-42-8b474d1c49a1>\u001b[0m in \u001b[0;36m<module>\u001b[1;34m\u001b[0m\n\u001b[1;32m----> 1\u001b[1;33m \u001b[0ma3\u001b[0m\u001b[1;33m\u001b[0m\u001b[1;33m\u001b[0m\u001b[0m\n\u001b[0m",
      "\u001b[1;31mNameError\u001b[0m: name 'a3' is not defined"
     ]
    }
   ],
   "source": [
    "a3"
   ]
  },
  {
   "cell_type": "code",
   "execution_count": 43,
   "metadata": {},
   "outputs": [
    {
     "output_type": "execute_result",
     "data": {
      "text/plain": "array([[1. , 2. , 4. , 3.5, 3. , 6. ]])"
     },
     "metadata": {},
     "execution_count": 43
    }
   ],
   "source": [
    "a2.reshape(1,6)"
   ]
  },
  {
   "cell_type": "code",
   "execution_count": 44,
   "metadata": {},
   "outputs": [
    {
     "output_type": "execute_result",
     "data": {
      "text/plain": "array([[1. , 2. , 4. ],\n       [3.5, 3. , 6. ]])"
     },
     "metadata": {},
     "execution_count": 44
    }
   ],
   "source": [
    "a2"
   ]
  },
  {
   "cell_type": "code",
   "execution_count": 46,
   "metadata": {},
   "outputs": [],
   "source": [
    "mat1 = np.random.randint(10, size=(5,3))\n",
    "mat2 = np.random.randint(10, size=(5,3))"
   ]
  },
  {
   "cell_type": "code",
   "execution_count": 47,
   "metadata": {},
   "outputs": [
    {
     "output_type": "execute_result",
     "data": {
      "text/plain": "(array([[8, 8, 0],\n        [0, 1, 5],\n        [4, 1, 4],\n        [0, 4, 7],\n        [2, 5, 1]]),\n array([[6, 0, 8],\n        [5, 2, 2],\n        [0, 7, 8],\n        [7, 2, 7],\n        [8, 3, 6]]))"
     },
     "metadata": {},
     "execution_count": 47
    }
   ],
   "source": [
    "mat1, mat2"
   ]
  },
  {
   "cell_type": "code",
   "execution_count": 48,
   "metadata": {},
   "outputs": [
    {
     "output_type": "execute_result",
     "data": {
      "text/plain": "array([[48,  0,  0],\n       [ 0,  2, 10],\n       [ 0,  7, 32],\n       [ 0,  8, 49],\n       [16, 15,  6]])"
     },
     "metadata": {},
     "execution_count": 48
    }
   ],
   "source": [
    "mat1 * mat2"
   ]
  },
  {
   "cell_type": "code",
   "execution_count": 49,
   "metadata": {},
   "outputs": [
    {
     "output_type": "error",
     "ename": "ValueError",
     "evalue": "shapes (5,3) and (5,3) not aligned: 3 (dim 1) != 5 (dim 0)",
     "traceback": [
      "\u001b[1;31m---------------------------------------------------------------------------\u001b[0m",
      "\u001b[1;31mValueError\u001b[0m                                Traceback (most recent call last)",
      "\u001b[1;32m<ipython-input-49-6a29ea6b4980>\u001b[0m in \u001b[0;36m<module>\u001b[1;34m\u001b[0m\n\u001b[1;32m----> 1\u001b[1;33m \u001b[0mnp\u001b[0m\u001b[1;33m.\u001b[0m\u001b[0mdot\u001b[0m\u001b[1;33m(\u001b[0m\u001b[0mmat1\u001b[0m\u001b[1;33m,\u001b[0m \u001b[0mmat2\u001b[0m\u001b[1;33m)\u001b[0m\u001b[1;33m\u001b[0m\u001b[1;33m\u001b[0m\u001b[0m\n\u001b[0m",
      "\u001b[1;32m<__array_function__ internals>\u001b[0m in \u001b[0;36mdot\u001b[1;34m(*args, **kwargs)\u001b[0m\n",
      "\u001b[1;31mValueError\u001b[0m: shapes (5,3) and (5,3) not aligned: 3 (dim 1) != 5 (dim 0)"
     ]
    }
   ],
   "source": [
    "np.dot(mat1, mat2)"
   ]
  },
  {
   "cell_type": "code",
   "execution_count": 51,
   "metadata": {},
   "outputs": [],
   "source": [
    "mat2 = mat2.reshape(3,5)"
   ]
  },
  {
   "cell_type": "code",
   "execution_count": 52,
   "metadata": {},
   "outputs": [
    {
     "output_type": "execute_result",
     "data": {
      "text/plain": "(array([[8, 8, 0],\n        [0, 1, 5],\n        [4, 1, 4],\n        [0, 4, 7],\n        [2, 5, 1]]),\n array([[6, 0, 8, 5, 2],\n        [2, 0, 7, 8, 7],\n        [2, 7, 8, 3, 6]]))"
     },
     "metadata": {},
     "execution_count": 52
    }
   ],
   "source": [
    "mat1, mat2"
   ]
  },
  {
   "cell_type": "code",
   "execution_count": 53,
   "metadata": {},
   "outputs": [
    {
     "output_type": "execute_result",
     "data": {
      "text/plain": "array([[ 64,   0, 120, 104,  72],\n       [ 12,  35,  47,  23,  37],\n       [ 34,  28,  71,  40,  39],\n       [ 22,  49,  84,  53,  70],\n       [ 24,   7,  59,  53,  45]])"
     },
     "metadata": {},
     "execution_count": 53
    }
   ],
   "source": [
    "np.dot(mat1,mat2)"
   ]
  },
  {
   "cell_type": "code",
   "execution_count": 54,
   "metadata": {},
   "outputs": [
    {
     "output_type": "execute_result",
     "data": {
      "text/plain": "array([ True, False, False])"
     },
     "metadata": {},
     "execution_count": 54
    }
   ],
   "source": [
    "a1 < 2"
   ]
  },
  {
   "cell_type": "code",
   "execution_count": 55,
   "metadata": {},
   "outputs": [
    {
     "output_type": "execute_result",
     "data": {
      "text/plain": "array([[8, 8, 6, 2, 8],\n       [7, 2, 1, 5, 4],\n       [4, 5, 7, 3, 6]])"
     },
     "metadata": {},
     "execution_count": 55
    }
   ],
   "source": [
    "rand_array"
   ]
  },
  {
   "cell_type": "code",
   "execution_count": 57,
   "metadata": {},
   "outputs": [
    {
     "output_type": "execute_result",
     "data": {
      "text/plain": "array([[2, 6, 8, 8, 8],\n       [1, 2, 4, 5, 7],\n       [3, 4, 5, 6, 7]])"
     },
     "metadata": {},
     "execution_count": 57
    }
   ],
   "source": [
    "np.sort(rand_array)"
   ]
  },
  {
   "cell_type": "code",
   "execution_count": 59,
   "metadata": {},
   "outputs": [
    {
     "output_type": "error",
     "ename": "SyntaxError",
     "evalue": "invalid syntax (<ipython-input-59-7eadef16dbbd>, line 1)",
     "traceback": [
      "\u001b[1;36m  File \u001b[1;32m\"<ipython-input-59-7eadef16dbbd>\"\u001b[1;36m, line \u001b[1;32m1\u001b[0m\n\u001b[1;33m    <img src = \"panda.png\">\u001b[0m\n\u001b[1;37m    ^\u001b[0m\n\u001b[1;31mSyntaxError\u001b[0m\u001b[1;31m:\u001b[0m invalid syntax\n"
     ]
    }
   ],
   "source": [
    "<img src = \"panda.png\">"
   ]
  },
  {
   "cell_type": "code",
   "execution_count": 60,
   "metadata": {},
   "outputs": [
    {
     "output_type": "execute_result",
     "data": {
      "text/plain": "array([[[0.05490196, 0.10588235, 0.06666667],\n        [0.05490196, 0.10588235, 0.06666667],\n        [0.05490196, 0.10588235, 0.06666667],\n        ...,\n        [0.16470589, 0.12941177, 0.09411765],\n        [0.16470589, 0.12941177, 0.09411765],\n        [0.16470589, 0.12941177, 0.09411765]],\n\n       [[0.05490196, 0.10588235, 0.06666667],\n        [0.05490196, 0.10588235, 0.06666667],\n        [0.05490196, 0.10588235, 0.06666667],\n        ...,\n        [0.16470589, 0.12941177, 0.09411765],\n        [0.16470589, 0.12941177, 0.09411765],\n        [0.16470589, 0.12941177, 0.09411765]],\n\n       [[0.05490196, 0.10588235, 0.06666667],\n        [0.05490196, 0.10588235, 0.06666667],\n        [0.05490196, 0.10588235, 0.06666667],\n        ...,\n        [0.16470589, 0.12941177, 0.09411765],\n        [0.16470589, 0.12941177, 0.09411765],\n        [0.16470589, 0.12941177, 0.09411765]],\n\n       ...,\n\n       [[0.13333334, 0.07450981, 0.05490196],\n        [0.12156863, 0.0627451 , 0.04313726],\n        [0.10980392, 0.05098039, 0.03137255],\n        ...,\n        [0.02745098, 0.02745098, 0.03529412],\n        [0.02745098, 0.02745098, 0.03529412],\n        [0.02745098, 0.02745098, 0.03529412]],\n\n       [[0.13333334, 0.07450981, 0.05490196],\n        [0.12156863, 0.0627451 , 0.04313726],\n        [0.12156863, 0.0627451 , 0.04313726],\n        ...,\n        [0.02352941, 0.02352941, 0.03137255],\n        [0.02352941, 0.02352941, 0.03137255],\n        [0.02352941, 0.02352941, 0.03137255]],\n\n       [[0.13333334, 0.07450981, 0.05490196],\n        [0.12156863, 0.0627451 , 0.04313726],\n        [0.12156863, 0.0627451 , 0.04313726],\n        ...,\n        [0.02352941, 0.02352941, 0.03137255],\n        [0.02352941, 0.02352941, 0.03137255],\n        [0.02352941, 0.02352941, 0.03137255]]], dtype=float32)"
     },
     "metadata": {},
     "execution_count": 60
    }
   ],
   "source": [
    "from matplotlib.image import imread\n",
    "\n",
    "panda = imread(\"panda.png\")\n",
    "panda"
   ]
  },
  {
   "cell_type": "code",
   "execution_count": 61,
   "metadata": {},
   "outputs": [
    {
     "output_type": "execute_result",
     "data": {
      "text/plain": "(2330, 3500, 3)"
     },
     "metadata": {},
     "execution_count": 61
    }
   ],
   "source": [
    "panda.shape"
   ]
  },
  {
   "cell_type": "code",
   "execution_count": 63,
   "metadata": {},
   "outputs": [
    {
     "output_type": "error",
     "ename": "AttributeError",
     "evalue": "'numpy.ndarray' object has no attribute 'head'",
     "traceback": [
      "\u001b[1;31m---------------------------------------------------------------------------\u001b[0m",
      "\u001b[1;31mAttributeError\u001b[0m                            Traceback (most recent call last)",
      "\u001b[1;32m<ipython-input-63-d6c8549955c3>\u001b[0m in \u001b[0;36m<module>\u001b[1;34m\u001b[0m\n\u001b[1;32m----> 1\u001b[1;33m \u001b[0mpanda\u001b[0m\u001b[1;33m.\u001b[0m\u001b[0mhead\u001b[0m\u001b[1;33m(\u001b[0m\u001b[1;33m)\u001b[0m\u001b[1;33m\u001b[0m\u001b[1;33m\u001b[0m\u001b[0m\n\u001b[0m",
      "\u001b[1;31mAttributeError\u001b[0m: 'numpy.ndarray' object has no attribute 'head'"
     ]
    }
   ],
   "source": [
    "panda.head()"
   ]
  },
  {
   "cell_type": "code",
   "execution_count": 66,
   "metadata": {},
   "outputs": [
    {
     "output_type": "execute_result",
     "data": {
      "text/plain": "array([[[0.5019608 , 0.50980395, 0.4862745 , 1.        ],\n        [0.3372549 , 0.34509805, 0.30588236, 1.        ],\n        [0.20392157, 0.21568628, 0.14901961, 1.        ],\n        ...,\n        [0.64705884, 0.7058824 , 0.54901963, 1.        ],\n        [0.59607846, 0.63529414, 0.45882353, 1.        ],\n        [0.44705883, 0.47058824, 0.3372549 , 1.        ]],\n\n       [[0.44313726, 0.43529412, 0.40392157, 1.        ],\n        [0.3137255 , 0.31764707, 0.27450982, 1.        ],\n        [0.2       , 0.21176471, 0.14117648, 1.        ],\n        ...,\n        [0.5058824 , 0.5372549 , 0.4117647 , 1.        ],\n        [0.49803922, 0.52156866, 0.39607844, 1.        ],\n        [0.4       , 0.42745098, 0.34117648, 1.        ]],\n\n       [[0.39607844, 0.38039216, 0.34117648, 1.        ],\n        [0.31764707, 0.3137255 , 0.27450982, 1.        ],\n        [0.28627452, 0.29411766, 0.24705882, 1.        ],\n        ...,\n        [0.44705883, 0.45882353, 0.32156864, 1.        ],\n        [0.45882353, 0.48235294, 0.3529412 , 1.        ],\n        [0.4509804 , 0.49019608, 0.38039216, 1.        ]],\n\n       ...,\n\n       [[0.47058824, 0.57254905, 0.6313726 , 1.        ],\n        [0.4392157 , 0.53333336, 0.5882353 , 1.        ],\n        [0.48235294, 0.5803922 , 0.6392157 , 1.        ],\n        ...,\n        [0.6156863 , 0.7529412 , 0.827451  , 1.        ],\n        [0.61960787, 0.7607843 , 0.83137256, 1.        ],\n        [0.5921569 , 0.73333335, 0.7921569 , 1.        ]],\n\n       [[0.4745098 , 0.5803922 , 0.6392157 , 1.        ],\n        [0.47058824, 0.58431375, 0.63529414, 1.        ],\n        [0.4117647 , 0.5019608 , 0.5529412 , 1.        ],\n        ...,\n        [0.54901963, 0.6784314 , 0.74509805, 1.        ],\n        [0.65882355, 0.8117647 , 0.8862745 , 1.        ],\n        [0.60784316, 0.74509805, 0.8117647 , 1.        ]],\n\n       [[0.4745098 , 0.57254905, 0.627451  , 1.        ],\n        [0.49411765, 0.6       , 0.65882355, 1.        ],\n        [0.49019608, 0.5921569 , 0.64705884, 1.        ],\n        ...,\n        [0.5294118 , 0.63529414, 0.69803923, 1.        ],\n        [0.5529412 , 0.67058825, 0.7372549 , 1.        ],\n        [0.6156863 , 0.73333335, 0.8       , 1.        ]]], dtype=float32)"
     },
     "metadata": {},
     "execution_count": 66
    }
   ],
   "source": [
    "car = imread(\"car-photo.png\")\n",
    "car"
   ]
  },
  {
   "cell_type": "code",
   "execution_count": 67,
   "metadata": {},
   "outputs": [],
   "source": [
    "dog = imread(\"dog-photo.png\")"
   ]
  },
  {
   "cell_type": "code",
   "execution_count": 68,
   "metadata": {},
   "outputs": [
    {
     "output_type": "execute_result",
     "data": {
      "text/plain": "array([[[0.70980394, 0.80784315, 0.88235295, 1.        ],\n        [0.72156864, 0.8117647 , 0.8862745 , 1.        ],\n        [0.7411765 , 0.8156863 , 0.8862745 , 1.        ],\n        ...,\n        [0.49803922, 0.6862745 , 0.8392157 , 1.        ],\n        [0.49411765, 0.68235296, 0.8392157 , 1.        ],\n        [0.49411765, 0.68235296, 0.8352941 , 1.        ]],\n\n       [[0.69411767, 0.8039216 , 0.8862745 , 1.        ],\n        [0.7019608 , 0.8039216 , 0.88235295, 1.        ],\n        [0.7058824 , 0.80784315, 0.88235295, 1.        ],\n        ...,\n        [0.5019608 , 0.6862745 , 0.84705883, 1.        ],\n        [0.49411765, 0.68235296, 0.84313726, 1.        ],\n        [0.49411765, 0.68235296, 0.8392157 , 1.        ]],\n\n       [[0.6901961 , 0.8       , 0.88235295, 1.        ],\n        [0.69803923, 0.8039216 , 0.88235295, 1.        ],\n        [0.7058824 , 0.80784315, 0.88235295, 1.        ],\n        ...,\n        [0.5019608 , 0.6862745 , 0.84705883, 1.        ],\n        [0.49803922, 0.6862745 , 0.84313726, 1.        ],\n        [0.49803922, 0.6862745 , 0.84313726, 1.        ]],\n\n       ...,\n\n       [[0.9098039 , 0.81960785, 0.654902  , 1.        ],\n        [0.8352941 , 0.7490196 , 0.6509804 , 1.        ],\n        [0.72156864, 0.6313726 , 0.5372549 , 1.        ],\n        ...,\n        [0.01568628, 0.07058824, 0.02352941, 1.        ],\n        [0.03921569, 0.09411765, 0.03529412, 1.        ],\n        [0.03921569, 0.09019608, 0.05490196, 1.        ]],\n\n       [[0.9137255 , 0.83137256, 0.6784314 , 1.        ],\n        [0.8117647 , 0.7294118 , 0.627451  , 1.        ],\n        [0.65882355, 0.5686275 , 0.47843137, 1.        ],\n        ...,\n        [0.00392157, 0.05490196, 0.03529412, 1.        ],\n        [0.03137255, 0.09019608, 0.05490196, 1.        ],\n        [0.04705882, 0.10588235, 0.06666667, 1.        ]],\n\n       [[0.9137255 , 0.83137256, 0.68235296, 1.        ],\n        [0.76862746, 0.68235296, 0.5882353 , 1.        ],\n        [0.59607846, 0.5058824 , 0.44313726, 1.        ],\n        ...,\n        [0.03921569, 0.10196079, 0.07058824, 1.        ],\n        [0.02745098, 0.08235294, 0.05882353, 1.        ],\n        [0.05098039, 0.11372549, 0.07058824, 1.        ]]], dtype=float32)"
     },
     "metadata": {},
     "execution_count": 68
    }
   ],
   "source": [
    "dog\n"
   ]
  },
  {
   "cell_type": "code",
   "execution_count": null,
   "metadata": {},
   "outputs": [],
   "source": []
  }
 ]
}